{
  "cells": [
    {
      "cell_type": "code",
      "execution_count": null,
      "metadata": {},
      "outputs": [],
      "source": [
        "# quick restart\n",
        "import os\n",
        "import sys\n",
        "from google.colab import drive, userdata\n",
        "\n",
        "print(\"\ud83d\udd04 Quick Restart Starting...\")\n",
        "\n",
        "%cd /content\n",
        "if os.path.exists('/content/FYP-Sycophancy-Mode-Collapse-Reward-Tampering/flatterers-dilemma'):\n",
        "    print(\"\u2713 Repo exists, pulling latest changes...\")\n",
        "    %cd /content/flatterers-dilemma\n",
        "    !git pull origin main\n",
        "else:\n",
        "    print(\"Cloning repository...\")\n",
        "    !git clone https://github.com/laibak24/FYP-Sycophancy-Mode-Collapse-Reward-Tampering.git\n",
        "    %cd /content/FYP-Sycophancy-Mode-Collapse-Reward-Tampering/flatterers-dilemma\n"
      ]
    },
    {
      "cell_type": "code",
      "execution_count": null,
      "metadata": {},
      "outputs": [],
      "source": [
        "print(\"\\n\ud83d\udce6 Installing dependencies...\")\n",
        "!pip install -q -r requirements.txt\n"
      ]
    },
    {
      "cell_type": "code",
      "execution_count": null,
      "metadata": {},
      "outputs": [],
      "source": [
        "print(\"\\n\ud83d\udd11 Loading API keys...\")\n",
        "for key in ['OPENAI_API_KEY', 'ANTHROPIC_API_KEY', 'GOOGLE_API_KEY', 'HUGGINGFACE_TOKEN']:\n",
        "    try:\n",
        "        os.environ[key] = userdata.get(key)\n",
        "        print(f\"  \u2713 {key}\")\n",
        "    except:\n",
        "        print(f\"  \u26a0 {key} not found\")\n"
      ]
    },
    {
      "cell_type": "code",
      "execution_count": null,
      "metadata": {},
      "outputs": [],
      "source": [
        "# adding src to path\n",
        "sys.path.insert(0, '/content/FYP-Sycophancy-Mode-Collapse-Reward-Tampering/flatterers-dilemma')\n",
        "\n",
        "# testing imports\n",
        "from src.utils.api_client import ModelClient\n",
        "from src.utils.hf_loader import HFModelLoader\n"
      ]
    },
    {
      "cell_type": "code",
      "execution_count": null,
      "metadata": {},
      "outputs": [],
      "source": [
        "import torch\n",
        "print(f\"\\n\ud83d\udda5\ufe0f Device: {torch.cuda.get_device_name(0) if torch.cuda.is_available() else 'CPU'}\")\n"
      ]
    },
    {
      "cell_type": "code",
      "execution_count": null,
      "metadata": {},
      "outputs": [],
      "source": [
        "print(\"\\n\u2705 Quick Restart Complete! Ready to work.\")\n"
      ]
    }
  ],
  "metadata": {
    "kernelspec": {
      "display_name": "Python 3",
      "language": "python",
      "name": "python3"
    },
    "language_info": {
      "codemirror_mode": {
        "name": "ipython",
        "version": 3
      },
      "file_extension": ".py",
      "mimetype": "text/x-python",
      "name": "python",
      "nbconvert_exporter": "python",
      "pygments_lexer": "ipython3",
      "version": "3.10.12"
    },
    "colab": {
      "provenance": []
    }
  },
  "nbformat": 4,
  "nbformat_minor": 0
}