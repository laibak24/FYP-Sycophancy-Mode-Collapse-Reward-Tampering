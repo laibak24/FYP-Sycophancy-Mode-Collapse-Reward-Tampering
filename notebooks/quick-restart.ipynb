# quick restart

import os
import sys
from google.colab import drive, userdata

print("🚀 Quick Restart Starting...")

%cd /content
if os.path.exists('/content/FYP-Sycophancy-Mode-Collapse-Reward-Tampering/flatterers-dilemma'):
    print("✓ Repo exists, pulling latest changes...")
    %cd /content/flatterers-dilemma
    !git pull origin main
else:
    print("Cloning repository...")
    !git clone https://github.com/laibak24/FYP-Sycophancy-Mode-Collapse-Reward-Tampering.git
    %cd /content/FYP-Sycophancy-Mode-Collapse-Reward-Tampering/flatterers-dilemma

print("\n📦 Installing dependencies...")
!pip install -q -r requirements.txt

print("\n🔑 Loading API keys...")
for key in ['OPENAI_API_KEY', 'ANTHROPIC_API_KEY', 'GOOGLE_API_KEY', 'HUGGINGFACE_TOKEN']:
    try:
        os.environ[key] = userdata.get(key)
        print(f"   ✓ {key}")
    except:
        print(f"   ⚠ {key} not found")

# adding src to path
sys.path.insert(0, '/content/FYP-Sycophancy-Mode-Collapse-Reward-Tampering/flatterers-dilemma')

# testing imports
from src.utils.api_client import ModelClient
from src.utils.hf_loader import HFModelLoader

import torch
print(f"\n💻 Device: {torch.cuda.get_device_name(0) if torch.cuda.is_available() else 'CPU'}")

print("\n✅ Quick Restart Complete! Ready to work.")
